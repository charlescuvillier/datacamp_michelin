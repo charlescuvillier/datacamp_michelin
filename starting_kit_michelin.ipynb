{
 "cells": [
  {
   "cell_type": "markdown",
   "metadata": {},
   "source": [
    "# Datacamp: Michelin restaurant classification\n",
    "Authors : *Quentin Garsault, Charles Cuvillier, Lucas Selini, Eric Patarin*\n",
    "\n",
    "## Table of Contents\n",
    "* [Introduction](#introduction)\n",
    "* [The dataset](#dataset)\n",
    "* [Requirements](#requirements)\n",
    "* [Data exploration](#exploration)\n",
    "* [Base model](#base_model)"
   ]
  },
  {
   "cell_type": "markdown",
   "metadata": {},
   "source": [
    "## Introduction <a class=\"anchor\" id=\"introduction\"></a>\n",
    "Write an introduction"
   ]
  },
  {
   "cell_type": "markdown",
   "metadata": {},
   "source": [
    "## The dataset <a class=\"anchor\" id=\"dataset\"></a>"
   ]
  },
  {
   "cell_type": "markdown",
   "metadata": {},
   "source": [
    "For this challenge, the data were first preprocessed and then split in order to preserve a private test set on which to evaluate the models on the servers. This leaves XXXX observations in the public train set and XXXX observations in the public test set. \n",
    "\n",
    "Preprocessing steps before splitting the data:\n"
   ]
  },
  {
   "cell_type": "markdown",
   "metadata": {},
   "source": [
    "Glossary of the terms used in the dataset:"
   ]
  },
  {
   "cell_type": "markdown",
   "metadata": {},
   "source": [
    "## Requirements <a class=\"anchor\" id=\"requirements\"></a>"
   ]
  },
  {
   "cell_type": "code",
   "execution_count": null,
   "metadata": {},
   "outputs": [],
   "source": [
    "import pandas as pd\n",
    "import numpy as np\n",
    "import missingno as msno\n",
    "import matplotlib.pyplot as plt\n",
    "import seaborn as sns\n",
    "import os\n",
    "\n",
    "from sklearn.model_selection import StratifiedGroupKFold\n",
    "from sklearn.impute import SimpleImputer\n",
    "from sklearn.preprocessing import StandardScaler\n",
    "from sklearn.base import BaseEstimator\n",
    "from sklearn.pipeline import Pipeline,make_pipeline\n",
    "from sklearn.linear_model import LogisticRegression\n",
    "from sklearn.metrics import accuracy_score\n",
    "from sklearn.metrics import balanced_accuracy_score\n",
    "from sklearn.metrics import classification_report\n",
    "from sklearn.metrics import confusion_matrix, ConfusionMatrixDisplay\n",
    "from xgboost import XGBClassifier\n",
    "from catboost import CatBoostClassifier\n",
    "from sklearn.ensemble import RandomForestClassifier\n",
    "from sklearn.svm import SVC\n",
    "from sklearn.neighbors import KNeighborsClassifier\n",
    "from sklearn.tree import DecisionTreeClassifier\n",
    "from sklearn.ensemble import GradientBoostingClassifier\n",
    "from sklearn.ensemble import AdaBoostClassifier\n",
    "from sklearn.naive_bayes import GaussianNB\n",
    "\n",
    "# workflow libraires\n",
    "from sklearn.base import is_classifier\n",
    "from sklearn.utils import _safe_indexing\n",
    "# from ..utils.importing import import_module_from_source\n",
    "\n",
    "import rampwf as rw"
   ]
  },
  {
   "cell_type": "markdown",
   "metadata": {},
   "source": [
    "## Download Data"
   ]
  },
  {
   "cell_type": "code",
   "execution_count": null,
   "metadata": {},
   "outputs": [],
   "source": []
  },
  {
   "cell_type": "markdown",
   "metadata": {},
   "source": [
    "## Data Exploration <a class=\"anchor\" id=\"exploration\"></a>"
   ]
  },
  {
   "cell_type": "code",
   "execution_count": null,
   "metadata": {},
   "outputs": [],
   "source": []
  },
  {
   "cell_type": "code",
   "execution_count": null,
   "metadata": {},
   "outputs": [],
   "source": [
    "problem_title = \"Classification de restaurant au guide Michelin\"\n",
    "\n",
    "# Correspondence between categories and int8 categories\n",
    "# Mapping int to categories\n",
    "int_to_cat = {\n",
    "   1 : 'ONE STAR',\n",
    "   2 : 'TWO STARS',\n",
    "   3 : 'THREE STARS',\n",
    "}\n",
    "\n",
    "# Mapping categories to int\n",
    "cat_to_int = {v: k for k, v in int_to_cat.items()}\n",
    "\n",
    "\n",
    "def _get_data(path=\".\", split=\"train\", cat_to_int = cat_to_int):\n",
    "    # Load data from csv files into pd.DataFrame\n",
    "\n",
    "    data_df = pd.read_csv(os.path.join(path, \"data\", split + \".csv\"))\n",
    "    data_df[\"SampleID\"] = data_df[\"SampleID\"].astype(\"category\")\n",
    "    SampleID = np.array(data_df[\"SampleID\"].cat.codes)\n",
    "\n",
    "    majors = [\n",
    "\n",
    "    ]\n",
    "\n",
    "    traces = [\n",
    "\n",
    "    ]\n",
    "\n",
    "    X_majors = data_df.loc[:, majors]\n",
    "    X_traces = data_df.loc[:, traces]\n",
    "    X_df = pd.concat([X_majors, X_traces], axis=1)\n",
    "\n",
    "    # X_df[\"groups\"] = SampleID.tolist() # présent dans la version de base (baisse la précision)\n",
    "    X = X_df\n",
    "\n",
    "    # labels\n",
    "    y = np.array(data_df[\"Event\"].map(cat_to_int).fillna(-1).astype(\"int8\"))\n",
    "\n",
    "    return X, y"
   ]
  },
  {
   "cell_type": "markdown",
   "metadata": {},
   "source": [
    "## Base model <a class=\"anchor\" id=\"base_model\"></a>"
   ]
  },
  {
   "cell_type": "markdown",
   "metadata": {},
   "source": []
  }
 ],
 "metadata": {
  "language_info": {
   "name": "python"
  }
 },
 "nbformat": 4,
 "nbformat_minor": 2
}
