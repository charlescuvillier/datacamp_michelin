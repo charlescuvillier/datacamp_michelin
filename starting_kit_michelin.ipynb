{
 "cells": [
  {
   "cell_type": "markdown",
   "metadata": {},
   "source": [
    "# Datacamp: Michelin restaurant classification\n",
    "Authors : *Quentin Garsault, Charles Cuvillier, Lucas Selini, Eric Patarin*\n",
    "\n",
    "## Table of Contents\n",
    "* [Introduction](#introduction)\n",
    "* [The dataset](#dataset)\n",
    "* [Requirements](#requirements)\n",
    "* [Data exploration](#exploration)\n",
    "* [Base model](#base_model)"
   ]
  },
  {
   "cell_type": "markdown",
   "metadata": {},
   "source": [
    "## Introduction <a class=\"anchor\" id=\"introduction\"></a>\n",
    "Write an introduction"
   ]
  },
  {
   "cell_type": "markdown",
   "metadata": {},
   "source": [
    "## The dataset <a class=\"anchor\" id=\"dataset\"></a>"
   ]
  },
  {
   "cell_type": "markdown",
   "metadata": {},
   "source": [
    "For this challenge, the data were first preprocessed and then split in order to preserve a private test set on which to evaluate the models on the servers. This leaves XXXX observations in the public train set and XXXX observations in the public test set. \n",
    "\n",
    "Preprocessing steps before splitting the data:\n"
   ]
  },
  {
   "cell_type": "markdown",
   "metadata": {},
   "source": [
    "Glossary of the terms used in the dataset:"
   ]
  },
  {
   "cell_type": "markdown",
   "metadata": {},
   "source": [
    "## Requirements <a class=\"anchor\" id=\"requirements\"></a>"
   ]
  },
  {
   "cell_type": "code",
   "execution_count": null,
   "metadata": {},
   "outputs": [],
   "source": [
    "import pandas as pd\n",
    "import numpy as np\n",
    "import missingno as msno\n",
    "import matplotlib.pyplot as plt\n",
    "import seaborn as sns\n",
    "import os\n",
    "\n",
    "from sklearn.model_selection import StratifiedGroupKFold\n",
    "from sklearn.impute import SimpleImputer\n",
    "from sklearn.preprocessing import StandardScaler\n",
    "from sklearn.base import BaseEstimator\n",
    "from sklearn.pipeline import Pipeline,make_pipeline\n",
    "from sklearn.linear_model import LogisticRegression\n",
    "from sklearn.metrics import accuracy_score\n",
    "from sklearn.metrics import balanced_accuracy_score\n",
    "from sklearn.metrics import classification_report\n",
    "from sklearn.metrics import confusion_matrix, ConfusionMatrixDisplay\n",
    "from xgboost import XGBClassifier\n",
    "from catboost import CatBoostClassifier\n",
    "from sklearn.ensemble import RandomForestClassifier\n",
    "from sklearn.svm import SVC\n",
    "from sklearn.neighbors import KNeighborsClassifier\n",
    "from sklearn.tree import DecisionTreeClassifier\n",
    "from sklearn.ensemble import GradientBoostingClassifier\n",
    "from sklearn.ensemble import AdaBoostClassifier\n",
    "from sklearn.naive_bayes import GaussianNB\n",
    "from sklearn.feature_extraction.text import TfidfVectorizer\n",
    "\n",
    "# workflow libraires\n",
    "from sklearn.base import is_classifier\n",
    "from sklearn.utils import _safe_indexing\n",
    "# from ..utils.importing import import_module_from_source\n",
    "\n",
    "import rampwf as rw"
   ]
  },
  {
   "cell_type": "markdown",
   "metadata": {},
   "source": [
    "## Download Data"
   ]
  },
  {
   "cell_type": "code",
   "execution_count": null,
   "metadata": {},
   "outputs": [],
   "source": []
  },
  {
   "cell_type": "markdown",
   "metadata": {},
   "source": [
    "## Data Exploration <a class=\"anchor\" id=\"exploration\"></a>"
   ]
  },
  {
   "cell_type": "code",
   "execution_count": null,
   "metadata": {},
   "outputs": [],
   "source": []
  },
  {
   "cell_type": "code",
   "execution_count": null,
   "metadata": {},
   "outputs": [],
   "source": [
    "problem_title = \"Classification de restaurant au guide Michelin\"\n",
    "\n",
    "# Correspondence between categories and int8 categories\n",
    "# Mapping int to categories\n",
    "int_to_cat = {\n",
    "   1 : 'ONE_STAR',\n",
    "   2 : 'TWO_STARS',\n",
    "   3 : 'THREE_STARS',\n",
    "}\n",
    "\n",
    "_event_label_int = list(int_to_cat)\n",
    "\n",
    "Predictions = rw.prediction_types.make_multiclass(label_names=_event_label_int)\n",
    "workflow = rw.workflows.Classifier()\n",
    "\n",
    "# Mapping categories to int\n",
    "cat_to_int = {v: k for k, v in int_to_cat.items()}\n",
    "\n",
    "score_types = [\n",
    "    rw.score_types.BalancedAccuracy(\n",
    "        name=\"bal_acc\", precision=3, adjusted=False\n",
    "    ),\n",
    "    rw.score_types.Accuracy(name=\"acc\", precision=3),\n",
    "]\n",
    "\n",
    "def _get_data(path=\".\", split=\"train\", cat_to_int = cat_to_int):\n",
    "    # Load data from csv files into pd.DataFrame\n",
    "\n",
    "    data_df = pd.read_csv(os.path.join(path, \"data\", split + \".csv\"))\n",
    "\n",
    "    data_df[\"cuisine1\"] = data_df[\"cuisine1\"].astype(\"category\")\n",
    "    data_df[\"cuisine2\"] = data_df[\"cuisine2\"].astype(\"category\")\n",
    "\n",
    "    # usefull columns\n",
    "    subset = [\n",
    "        'name',\n",
    "        'blurb',\n",
    "        'michelin_award',\n",
    "        'city',\n",
    "        'country',\n",
    "        'lat',\n",
    "        'lon',\n",
    "        # 'image',\n",
    "        'chef',\n",
    "        'cuisine1',\n",
    "        'cuisine2',\n",
    "        # 'url',\n",
    "        # 'url2'\n",
    "    ]\n",
    "\n",
    "    X = data_df[subset]\n",
    "\n",
    "    # labels\n",
    "    y = np.array(data_df[\"michelin_award\"].map(cat_to_int).fillna(-1).astype(\"int8\"))\n",
    "\n",
    "    return X, y\n",
    "\n",
    "groups = None\n",
    "\n",
    "def get_train_data(path=\".\"):\n",
    "    data = pd.read_csv(os.path.join(path, \"data\", \"train.csv\"))\n",
    "    data[\"name\"] = data[\"name\"].astype(\"category\")\n",
    "    Name = np.array(data[\"name\"].cat.codes)\n",
    "    global groups\n",
    "    groups = Name\n",
    "    return _get_data(path, \"train\")\n",
    "\n",
    "\n",
    "def get_test_data(path=\".\"):\n",
    "    return _get_data(path, \"test\")\n",
    "\n",
    "def get_cv(X, y):\n",
    "    cv = StratifiedGroupKFold(n_splits=2, shuffle=True, random_state=2)\n",
    "    return cv.split(X, y, groups)\n"
   ]
  },
  {
   "cell_type": "markdown",
   "metadata": {},
   "source": [
    "## Base model <a class=\"anchor\" id=\"base_model\"></a>"
   ]
  },
  {
   "cell_type": "markdown",
   "metadata": {},
   "source": []
  },
  {
   "cell_type": "code",
   "execution_count": null,
   "metadata": {},
   "outputs": [],
   "source": [
    "# %% define classification model\n",
    "\n",
    "X_train_df, y_train = get_train_data()\n",
    "X_test_df, y_test = get_test_data()\n",
    "\n",
    "# The model will take numpy arrays as input.\n",
    "X_train = X_train_df.to_numpy()\n",
    "\n",
    "X_test = X_test_df.to_numpy()\n",
    "\n",
    "\n",
    "numeric_transformer = Pipeline(\n",
    "    steps = [\n",
    "        (\"imputer\", SimpleImputer(strategy=\"constant\", fill_value=\"\")),  \n",
    "        (\"vectorizer\", TfidfVectorizer()),  # Convert text to numbers\n",
    "        (\"scaler\", StandardScaler())  \n",
    "])\n",
    "\n",
    "clf_lr = Pipeline(\n",
    "    steps=[(\"transformer\", numeric_transformer), (\"classifier\", LogisticRegression(max_iter=500))]\n",
    ")\n",
    "\n",
    "clf_lr.fit(X_train, y_train)\n",
    "y_pred_lr = clf_lr.predict(X_test)\n",
    "\n",
    "\n",
    "print(\"balanced accuracy score linear regressor (score to beat) = \", balanced_accuracy_score(y_test, y_pred_lr))"
   ]
  }
 ],
 "metadata": {
  "language_info": {
   "name": "python"
  }
 },
 "nbformat": 4,
 "nbformat_minor": 2
}
